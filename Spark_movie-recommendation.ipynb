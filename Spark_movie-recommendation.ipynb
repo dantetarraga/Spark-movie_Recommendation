{
  "nbformat": 4,
  "nbformat_minor": 0,
  "metadata": {
    "colab": {
      "provenance": [],
      "gpuType": "T4",
      "include_colab_link": true
    },
    "kernelspec": {
      "name": "python3",
      "display_name": "Python 3"
    },
    "language_info": {
      "name": "python"
    },
    "accelerator": "GPU"
  },
  "cells": [
    {
      "cell_type": "markdown",
      "metadata": {
        "id": "view-in-github",
        "colab_type": "text"
      },
      "source": [
        "<a href=\"https://colab.research.google.com/github/dantetarraga/Spark-movie_Recommendation/blob/main/Spark_movie-recommendation.ipynb\" target=\"_parent\"><img src=\"https://colab.research.google.com/assets/colab-badge.svg\" alt=\"Open In Colab\"/></a>"
      ]
    },
    {
      "cell_type": "markdown",
      "source": [
        "**Paso 1: Importar las librerias necesarias y configurar Spark**"
      ],
      "metadata": {
        "id": "9S2VYSAGS-SZ"
      }
    },
    {
      "cell_type": "code",
      "source": [
        "!pip install pyspark"
      ],
      "metadata": {
        "id": "vubi6W3jN-iH",
        "outputId": "ec8f86c4-52ec-4adf-8c52-74487da421a8",
        "colab": {
          "base_uri": "https://localhost:8080/"
        }
      },
      "execution_count": 3,
      "outputs": [
        {
          "output_type": "stream",
          "name": "stdout",
          "text": [
            "Looking in indexes: https://pypi.org/simple, https://us-python.pkg.dev/colab-wheels/public/simple/\n",
            "Collecting pyspark\n",
            "  Downloading pyspark-3.4.1.tar.gz (310.8 MB)\n",
            "\u001b[2K     \u001b[90m━━━━━━━━━━━━━━━━━━━━━━━━━━━━━━━━━━━━━━━\u001b[0m \u001b[32m310.8/310.8 MB\u001b[0m \u001b[31m4.5 MB/s\u001b[0m eta \u001b[36m0:00:00\u001b[0m\n",
            "\u001b[?25h  Preparing metadata (setup.py) ... \u001b[?25l\u001b[?25hdone\n",
            "Requirement already satisfied: py4j==0.10.9.7 in /usr/local/lib/python3.10/dist-packages (from pyspark) (0.10.9.7)\n",
            "Building wheels for collected packages: pyspark\n",
            "  Building wheel for pyspark (setup.py) ... \u001b[?25l\u001b[?25hdone\n",
            "  Created wheel for pyspark: filename=pyspark-3.4.1-py2.py3-none-any.whl size=311285398 sha256=f7165f21d0b27735e5a62331e2208f0660394d9cbc77243ca829cc2d62a6adb1\n",
            "  Stored in directory: /root/.cache/pip/wheels/0d/77/a3/ff2f74cc9ab41f8f594dabf0579c2a7c6de920d584206e0834\n",
            "Successfully built pyspark\n",
            "Installing collected packages: pyspark\n",
            "Successfully installed pyspark-3.4.1\n"
          ]
        }
      ]
    },
    {
      "cell_type": "markdown",
      "source": [
        "**Paso 2: Lee contenido del archivo CSV y transforma a un DataFrame**"
      ],
      "metadata": {
        "id": "EBEtLCsnTLs_"
      }
    },
    {
      "cell_type": "code",
      "source": [
        "from pyspark.sql import SparkSession\n",
        "from pyspark.ml.recommendation import ALS\n",
        "from pyspark.ml.evaluation import RegressionEvaluator\n",
        "from pyspark.ml.feature import StringIndexer\n",
        "\n",
        "# Crear una sesión de Spark\n",
        "spark = SparkSession.builder.appName(\"MovieRecommender\").getOrCreate()\n",
        "\n",
        "# Load the Spotify dataset\n",
        "movies_path = \"/content/movies.csv\"\n",
        "ratings_path = \"/content/ratings.csv\"\n",
        "\n",
        "# Cargar los datos de películas y ratings\n",
        "movies_df = spark.read.csv(movies_path, header=True, inferSchema=True)\n",
        "ratings_df = spark.read.csv(ratings_path, header=True, inferSchema=True)\n"
      ],
      "metadata": {
        "id": "kZTQ-bycsLA8"
      },
      "execution_count": 16,
      "outputs": []
    },
    {
      "cell_type": "code",
      "source": [
        "movies_df.show()\n",
        "ratings_df.show()"
      ],
      "metadata": {
        "id": "QkWEZ3IDNj5m",
        "outputId": "5b83814c-9898-4bff-95a6-520b1310951b",
        "colab": {
          "base_uri": "https://localhost:8080/"
        }
      },
      "execution_count": 17,
      "outputs": [
        {
          "output_type": "stream",
          "name": "stdout",
          "text": [
            "+-------+--------------------+--------------------+\n",
            "|movieId|               title|              genres|\n",
            "+-------+--------------------+--------------------+\n",
            "|      1|    Toy Story (1995)|Adventure|Animati...|\n",
            "|      2|      Jumanji (1995)|Adventure|Childre...|\n",
            "|      3|Grumpier Old Men ...|      Comedy|Romance|\n",
            "|      4|Waiting to Exhale...|Comedy|Drama|Romance|\n",
            "|      5|Father of the Bri...|              Comedy|\n",
            "|      6|         Heat (1995)|Action|Crime|Thri...|\n",
            "|      7|      Sabrina (1995)|      Comedy|Romance|\n",
            "|      8| Tom and Huck (1995)|  Adventure|Children|\n",
            "|      9| Sudden Death (1995)|              Action|\n",
            "|     10|    GoldenEye (1995)|Action|Adventure|...|\n",
            "|     11|American Presiden...|Comedy|Drama|Romance|\n",
            "|     12|Dracula: Dead and...|       Comedy|Horror|\n",
            "|     13|        Balto (1995)|Adventure|Animati...|\n",
            "|     14|        Nixon (1995)|               Drama|\n",
            "|     15|Cutthroat Island ...|Action|Adventure|...|\n",
            "|     16|       Casino (1995)|         Crime|Drama|\n",
            "|     17|Sense and Sensibi...|       Drama|Romance|\n",
            "|     18|   Four Rooms (1995)|              Comedy|\n",
            "|     19|Ace Ventura: When...|              Comedy|\n",
            "|     20|  Money Train (1995)|Action|Comedy|Cri...|\n",
            "+-------+--------------------+--------------------+\n",
            "only showing top 20 rows\n",
            "\n",
            "+------+-------+------+----------+\n",
            "|userId|movieId|rating| timestamp|\n",
            "+------+-------+------+----------+\n",
            "|     1|    307|   3.5|1256677221|\n",
            "|     1|    481|   3.5|1256677456|\n",
            "|     1|   1091|   1.5|1256677471|\n",
            "|     1|   1257|   4.5|1256677460|\n",
            "|     1|   1449|   4.5|1256677264|\n",
            "|     1|   1590|   2.5|1256677236|\n",
            "|     1|   1591|   1.5|1256677475|\n",
            "|     1|   2134|   4.5|1256677464|\n",
            "|     1|   2478|   4.0|1256677239|\n",
            "|     1|   2840|   3.0|1256677500|\n",
            "|     1|   2986|   2.5|1256677496|\n",
            "|     1|   3020|   4.0|1256677260|\n",
            "|     1|   3424|   4.5|1256677444|\n",
            "|     1|   3698|   3.5|1256677243|\n",
            "|     1|   3826|   2.0|1256677210|\n",
            "|     1|   3893|   3.5|1256677486|\n",
            "|     2|    170|   3.5|1192913581|\n",
            "|     2|    849|   3.5|1192913537|\n",
            "|     2|   1186|   3.5|1192913611|\n",
            "|     2|   1235|   3.0|1192913585|\n",
            "+------+-------+------+----------+\n",
            "only showing top 20 rows\n",
            "\n"
          ]
        }
      ]
    },
    {
      "cell_type": "markdown",
      "source": [
        "**Paso 3: Pre-procesamiento del conjunto de datos**\n",
        "\n",
        "*   Combinamos la tabla movies_df con ratings_dv para obterner el titulo de las peliculas\n",
        "\n",
        "\n",
        "\n"
      ],
      "metadata": {
        "id": "heKBk39kTReP"
      }
    },
    {
      "cell_type": "code",
      "source": [
        "# Realizar la unión de los DataFrames basada en la columna \"movieId\"\n",
        "ratings_df = ratings_df.join(movies_df, \"movieId\")\n",
        "\n",
        "# Seleccionar las columnas deseadas\n",
        "ratings_df = ratings_df.select(\"userId\", \"movieId\", \"rating\", \"title\").withColumnRenamed(\"userId\", \"user\").withColumnRenamed(\"movieId\", \"movie\")\n",
        "\n",
        "# Mostrar el DataFrame combinado\n",
        "ratings_df.show()"
      ],
      "metadata": {
        "colab": {
          "base_uri": "https://localhost:8080/"
        },
        "id": "weHzRvsVNWQX",
        "outputId": "23e5e9b5-1d38-457e-cd4b-e67367a5891c"
      },
      "execution_count": 18,
      "outputs": [
        {
          "output_type": "stream",
          "name": "stdout",
          "text": [
            "+----+-----+------+--------------------+\n",
            "|user|movie|rating|               title|\n",
            "+----+-----+------+--------------------+\n",
            "|   1|  307|   3.5|Three Colors: Blu...|\n",
            "|   1|  481|   3.5|   Kalifornia (1993)|\n",
            "|   1| 1091|   1.5|Weekend at Bernie...|\n",
            "|   1| 1257|   4.5|Better Off Dead.....|\n",
            "|   1| 1449|   4.5|Waiting for Guffm...|\n",
            "|   1| 1590|   2.5|Event Horizon (1997)|\n",
            "|   1| 1591|   1.5|        Spawn (1997)|\n",
            "|   1| 2134|   4.5|Weird Science (1985)|\n",
            "|   1| 2478|   4.0|¡Three Amigos! (1...|\n",
            "|   1| 2840|   3.0|     Stigmata (1999)|\n",
            "|   1| 2986|   2.5|    RoboCop 2 (1990)|\n",
            "|   1| 3020|   4.0| Falling Down (1993)|\n",
            "|   1| 3424|   4.5|Do the Right Thin...|\n",
            "|   1| 3698|   3.5|Running Man, The ...|\n",
            "|   1| 3826|   2.0|   Hollow Man (2000)|\n",
            "|   1| 3893|   3.5|  Nurse Betty (2000)|\n",
            "|   2|  170|   3.5|      Hackers (1995)|\n",
            "|   2|  849|   3.5|Escape from L.A. ...|\n",
            "|   2| 1186|   3.5|Sex, Lies, and Vi...|\n",
            "|   2| 1235|   3.0|Harold and Maude ...|\n",
            "+----+-----+------+--------------------+\n",
            "only showing top 20 rows\n",
            "\n"
          ]
        }
      ]
    },
    {
      "cell_type": "code",
      "source": [
        "# Convert rating column to float\n",
        "ratings_df = ratings_df.withColumn(\"rating\", ratings_df[\"rating\"].cast(\"float\"))\n",
        "\n",
        "# Filter out any invalid or missing values\n",
        "ratings_df = ratings_df.filter(ratings_df[\"user\"].isNotNull() & ratings_df[\"movie\"].isNotNull() & ratings_df[\"rating\"].isNotNull() & ratings_df[\"title\"].isNotNull())"
      ],
      "metadata": {
        "id": "5MNJrZKWOy93"
      },
      "execution_count": 20,
      "outputs": []
    },
    {
      "cell_type": "markdown",
      "source": [
        "**Paso 4: Dividir le conjunto de datos en dos subconjuntos - Train y Test**"
      ],
      "metadata": {
        "id": "xpVDOKjXTmIH"
      }
    },
    {
      "cell_type": "code",
      "source": [
        "# Split the data into training and testing sets (80% for training, 20% for testing)\n",
        "train_data, test_data = ratings_df.randomSplit([0.8, 0.2], seed=42)"
      ],
      "metadata": {
        "id": "nRKfbhvhC_wl"
      },
      "execution_count": 21,
      "outputs": []
    },
    {
      "cell_type": "markdown",
      "source": [
        "**Paso 5: Indexazacion de valores no numericos (user, movie) y entrenamiento del modelo**"
      ],
      "metadata": {
        "id": "HnxOtEAPTrY3"
      }
    },
    {
      "cell_type": "code",
      "source": [
        "# Crear StringIndexers para las columnas relevantes\n",
        "user_indexer = StringIndexer(inputCol=\"user\", outputCol=\"userIndex\")\n",
        "movie_indexer = StringIndexer(inputCol=\"movie\", outputCol=\"movieIndex\")\n",
        "\n",
        "# Aplicar StringIndexers a los datos de ratings\n",
        "indexed_data = user_indexer.fit(train_data).transform(train_data)\n",
        "indexed_data = movie_indexer.fit(indexed_data).transform(indexed_data)\n",
        "\n",
        "# Create an ALS recommender model\n",
        "als = ALS(userCol=\"userIndex\", itemCol=\"movieIndex\", ratingCol=\"rating\", nonnegative=True)\n",
        "\n",
        "# Fit the model to the training data\n",
        "model = als.fit(indexed_data)"
      ],
      "metadata": {
        "id": "_Hm6BaQCBpZF"
      },
      "execution_count": 22,
      "outputs": []
    },
    {
      "cell_type": "code",
      "source": [
        "indexed_data.show()"
      ],
      "metadata": {
        "colab": {
          "base_uri": "https://localhost:8080/"
        },
        "id": "Fmio0lcG3nSt",
        "outputId": "4f7c05cc-1b84-4b53-f635-abef9d826854"
      },
      "execution_count": 23,
      "outputs": [
        {
          "output_type": "stream",
          "name": "stdout",
          "text": [
            "+----+-----+------+--------------------+---------+----------+\n",
            "|user|movie|rating|               title|userIndex|movieIndex|\n",
            "+----+-----+------+--------------------+---------+----------+\n",
            "|   1|  307|   3.5|Three Colors: Blu...|  25111.0|     910.0|\n",
            "|   1|  481|   3.5|   Kalifornia (1993)|  25111.0|    1091.0|\n",
            "|   1| 1257|   4.5|Better Off Dead.....|  25111.0|    1167.0|\n",
            "|   1| 1449|   4.5|Waiting for Guffm...|  25111.0|     993.0|\n",
            "|   1| 1590|   2.5|Event Horizon (1997)|  25111.0|     798.0|\n",
            "|   1| 2134|   4.5|Weird Science (1985)|  25111.0|     996.0|\n",
            "|   1| 2840|   3.0|     Stigmata (1999)|  25111.0|    1155.0|\n",
            "|   1| 2986|   2.5|    RoboCop 2 (1990)|  25111.0|    1154.0|\n",
            "|   1| 3020|   4.0| Falling Down (1993)|  25111.0|     874.0|\n",
            "|   1| 3424|   4.5|Do the Right Thin...|  25111.0|     940.0|\n",
            "|   1| 3826|   2.0|   Hollow Man (2000)|  25111.0|     800.0|\n",
            "|   1| 3893|   3.5|  Nurse Betty (2000)|  25111.0|    1263.0|\n",
            "|   2|  170|   3.5|      Hackers (1995)|  25511.0|     692.0|\n",
            "|   2|  849|   3.5|Escape from L.A. ...|  25511.0|     674.0|\n",
            "|   2| 1186|   3.5|Sex, Lies, and Vi...|  25511.0|     805.0|\n",
            "|   2| 1244|   3.0|    Manhattan (1979)|  25511.0|     665.0|\n",
            "|   2| 1296|   4.5|Room with a View,...|  25511.0|     911.0|\n",
            "|   2| 1663|   3.0|      Stripes (1981)|  25511.0|     769.0|\n",
            "|   2| 2108|   3.5|   L.A. Story (1991)|  25511.0|     921.0|\n",
            "|   2| 2243|   4.5|Broadcast News (1...|  25511.0|    1073.0|\n",
            "+----+-----+------+--------------------+---------+----------+\n",
            "only showing top 20 rows\n",
            "\n"
          ]
        }
      ]
    },
    {
      "cell_type": "markdown",
      "source": [
        "**Paso 6: Indexazacion de valores no numericos (user, song) y generacion del conjunto de prueba**"
      ],
      "metadata": {
        "id": "8McxT1i3TzHf"
      }
    },
    {
      "cell_type": "code",
      "source": [
        "user_indexer = StringIndexer(inputCol=\"user\", outputCol=\"userIndex\")\n",
        "movie_indexer = StringIndexer(inputCol=\"movie\", outputCol=\"movieIndex\")\n",
        "\n",
        "# Fit StringIndexers and transform the data\n",
        "indexed_test_data = user_indexer.fit(test_data).transform(test_data)\n",
        "indexed_test_data = movie_indexer.fit(indexed_test_data).transform(indexed_test_data)"
      ],
      "metadata": {
        "id": "2k5Ts7n1FCKe"
      },
      "execution_count": 24,
      "outputs": []
    },
    {
      "cell_type": "markdown",
      "source": [
        "**Paso 7: Genera 5 recomendaciones para cada usuario en el conjunto de datos de prueba**"
      ],
      "metadata": {
        "id": "9Fd0L852T3z_"
      }
    },
    {
      "cell_type": "code",
      "source": [
        "# Generate top 5 recommendations for each user in the test data\n",
        "recommendations = model.recommendForUserSubset(indexed_test_data, 5)"
      ],
      "metadata": {
        "id": "-d6LEgS6vtFk"
      },
      "execution_count": 25,
      "outputs": []
    },
    {
      "cell_type": "markdown",
      "source": [
        "**Paso 8: Mostrar recomendaciones**"
      ],
      "metadata": {
        "id": "kaMDATkvT55H"
      }
    },
    {
      "cell_type": "code",
      "source": [
        "# Show the recommendations\n",
        "recommendations.show(truncate=False)"
      ],
      "metadata": {
        "id": "b1Qq9uhayohN",
        "outputId": "25a595ca-c960-4550-ff0d-91f9b8e02d81",
        "colab": {
          "base_uri": "https://localhost:8080/"
        }
      },
      "execution_count": 26,
      "outputs": [
        {
          "output_type": "stream",
          "name": "stdout",
          "text": [
            "+---------+----------------------------------------------------------------------------------------------------+\n",
            "|userIndex|recommendations                                                                                     |\n",
            "+---------+----------------------------------------------------------------------------------------------------+\n",
            "|1        |[{26170, 5.344473}, {26891, 5.2205157}, {26635, 5.2205157}, {26272, 5.2205157}, {26066, 5.2205157}] |\n",
            "|3        |[{26891, 5.7220397}, {26635, 5.7220397}, {26272, 5.7220397}, {26066, 5.7220397}, {21873, 5.7220397}]|\n",
            "|5        |[{20702, 6.064125}, {26891, 6.0557866}, {26635, 6.0557866}, {26272, 6.0557866}, {26066, 6.0557866}] |\n",
            "|6        |[{26891, 4.952735}, {26635, 4.952735}, {26272, 4.952735}, {26066, 4.952735}, {21873, 4.952735}]     |\n",
            "|9        |[{15432, 7.1770325}, {15159, 6.5486417}, {27433, 6.406582}, {16047, 6.376807}, {14503, 6.186342}]   |\n",
            "|12       |[{24399, 5.2823105}, {26170, 5.051624}, {26891, 4.8729715}, {26635, 4.8729715}, {26272, 4.8729715}] |\n",
            "|13       |[{24399, 6.0600166}, {26891, 5.785852}, {26635, 5.785852}, {26272, 5.785852}, {26066, 5.785852}]    |\n",
            "|15       |[{24399, 5.752978}, {26170, 4.8504434}, {15351, 4.787418}, {20756, 4.7699046}, {22882, 4.700543}]   |\n",
            "|16       |[{26891, 4.8793297}, {26635, 4.8793297}, {26272, 4.8793297}, {26066, 4.8793297}, {21873, 4.8793297}]|\n",
            "|17       |[{22571, 5.250811}, {24399, 5.1575465}, {26891, 5.1363807}, {26635, 5.1363807}, {26272, 5.1363807}] |\n",
            "|19       |[{26987, 5.5448346}, {26891, 5.486916}, {26635, 5.486916}, {26272, 5.486916}, {26066, 5.486916}]    |\n",
            "|20       |[{24399, 6.0409827}, {26170, 4.896246}, {22571, 4.7508245}, {15940, 4.7496195}, {15351, 4.7333007}] |\n",
            "|22       |[{26891, 5.6386523}, {26635, 5.6386523}, {26272, 5.6386523}, {26066, 5.6386523}, {21873, 5.6386523}]|\n",
            "|26       |[{24399, 5.577588}, {22571, 5.525966}, {26170, 5.482093}, {26891, 5.4819283}, {26635, 5.4819283}]   |\n",
            "|27       |[{24399, 5.851549}, {26891, 5.724783}, {26635, 5.724783}, {26272, 5.724783}, {26066, 5.724783}]     |\n",
            "|28       |[{24399, 5.85724}, {27433, 5.3886423}, {22882, 5.2669263}, {26170, 5.26264}, {26891, 5.167033}]     |\n",
            "|31       |[{20702, 4.6663847}, {22571, 4.521763}, {26891, 4.521484}, {26635, 4.521484}, {26272, 4.521484}]    |\n",
            "|34       |[{20702, 5.333546}, {22571, 5.2694507}, {26987, 5.2222548}, {18100, 5.184589}, {21758, 5.1679664}]  |\n",
            "|35       |[{24399, 6.1931252}, {26170, 5.5396605}, {14503, 5.460073}, {15351, 5.458036}, {16576, 5.290057}]   |\n",
            "|37       |[{12054, 2.846282}, {24399, 2.5164137}, {13808, 2.4226499}, {12218, 2.201385}, {18275, 2.1608741}]  |\n",
            "+---------+----------------------------------------------------------------------------------------------------+\n",
            "only showing top 20 rows\n",
            "\n"
          ]
        }
      ]
    },
    {
      "cell_type": "markdown",
      "source": [
        "**Paso 9: Solicitar id de usuario para recomendarle pelicula**"
      ],
      "metadata": {
        "id": "tVJRvfffT_uX"
      }
    },
    {
      "cell_type": "code",
      "source": [
        "from pyspark.sql.functions import col\n",
        "\n",
        "# Solicitar al usuario que ingrese un número\n",
        "id_to_retrieve = input(\"Ingrese numero de usuario: \")\n",
        "\n",
        "filtered_data = indexed_data.filter(col(\"userIndex\") == id_to_retrieve)\n",
        "\n",
        "movie_index = filtered_data.select(\"movie\").collect()[0][0]\n",
        "\n",
        "movie_title = (ratings_df.filter(col(\"movie\") == movie_index)).select(\"title\").collect()[0][0]\n",
        "\n",
        "# Imprimir la recomendación de película para el usuario\n",
        "print(\"Para el usuario %s, se recomienda la película: %s\" % (id_to_retrieve, movie_title))"
      ],
      "metadata": {
        "colab": {
          "base_uri": "https://localhost:8080/"
        },
        "id": "ioAF9AxXFlIW",
        "outputId": "318f3516-194a-44d0-a5ac-9990c59beb7b"
      },
      "execution_count": 31,
      "outputs": [
        {
          "output_type": "stream",
          "name": "stdout",
          "text": [
            "Ingrese numero de usuario: 10531\n",
            "Para el usuario 10531, se recomienda la película: Toy Story (1995)\n"
          ]
        }
      ]
    },
    {
      "cell_type": "code",
      "source": [],
      "metadata": {
        "id": "-jAEjg6nRfsX"
      },
      "execution_count": null,
      "outputs": []
    }
  ]
}